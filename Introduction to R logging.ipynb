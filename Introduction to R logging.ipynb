{
 "cells": [
  {
   "cell_type": "markdown",
   "metadata": {
    "collapsed": true
   },
   "source": [
    "## Introduction to R logging\n",
    "\n",
    "Before getting into anything too juicy, \n",
    "it is always nice to print the version of R first \n",
    "just so that we know that we are all on the same page \n",
    "and no one yells at anyone else on StackOverflow for any reason \n",
    "other than the fact that they just have a different version of R installed. \n",
    "If there was only ever one version of R...where all of the dependencies were installed.\n"
   ]
  },
  {
   "cell_type": "code",
   "execution_count": 1,
   "metadata": {
    "collapsed": false
   },
   "outputs": [
    {
     "name": "stdout",
     "output_type": "stream",
     "text": [
      "R version 3.3.2 (2016-10-31)"
     ]
    }
   ],
   "source": [
    "cat(R.Version()$version.string)"
   ]
  },
  {
   "cell_type": "code",
   "execution_count": 2,
   "metadata": {
    "collapsed": true
   },
   "outputs": [],
   "source": [
    "# Load the library into R\n",
    "# Dependencies: None, just a lot of patience.\n",
    "library(logging)"
   ]
  },
  {
   "cell_type": "markdown",
   "metadata": {},
   "source": [
    "#### The basic configurations\n",
    "We can use the basic configuration command to set up a basic logging system for our use in R.\n",
    "Our logger now has a handler and a level.\n",
    "Levels are like layers or Russian dolls. When you have multiple loggers, loggers of a 'lower' level will not log other layers.\n"
   ]
  },
  {
   "cell_type": "code",
   "execution_count": 3,
   "metadata": {
    "collapsed": false
   },
   "outputs": [
    {
     "data": {
      "text/html": [
       "<ol class=list-inline>\n",
       "\t<li>'addHandler'</li>\n",
       "\t<li>'handlers'</li>\n",
       "\t<li>'level'</li>\n",
       "\t<li>'name'</li>\n",
       "\t<li>'removeHandler'</li>\n",
       "\t<li>'setLevel'</li>\n",
       "</ol>\n"
      ],
      "text/plain": [
       "[1] \"addHandler\"    \"handlers\"      \"level\"         \"name\"         \n",
       "[5] \"removeHandler\" \"setLevel\"     "
      ]
     },
     "metadata": {},
     "output_type": "execute_result"
    }
   ],
   "source": [
    "basicConfig()  # Generate the basic config\n",
    "ls(getLogger())"
   ]
  },
  {
   "cell_type": "code",
   "execution_count": 4,
   "metadata": {
    "collapsed": false
   },
   "outputs": [
    {
     "data": {
      "text/html": [
       "<strong>INFO:</strong> 20"
      ],
      "text/plain": [
       "INFO \n",
       "  20 "
      ]
     },
     "metadata": {},
     "output_type": "execute_result"
    }
   ],
   "source": [
    "# We see six attributes.\n",
    "getLogger()[['level']]  # The level attribute shows what type of logger and the level."
   ]
  },
  {
   "cell_type": "markdown",
   "metadata": {},
   "source": [
    "There are five types of logs. All with different levels.\n",
    "* logfinest &nbsp; &nbsp; ==  &nbsp; 1\n",
    "* logdebug &nbsp; == &nbsp; 10\n",
    "* loginfo  &nbsp; &nbsp; &nbsp; == &nbsp; 20\n",
    "* logwarn  &nbsp; &nbsp; == &nbsp; 30\n",
    "* logerror &nbsp; &nbsp; == &nbsp; 40"
   ]
  },
  {
   "cell_type": "code",
   "execution_count": 5,
   "metadata": {
    "collapsed": false
   },
   "outputs": [
    {
     "name": "stdout",
     "output_type": "stream",
     "text": [
      "2017-01-24 13:36:00 INFO::Just letting you know\n",
      "2017-01-24 13:36:00 WARNING::There's something I need to tell you.\n",
      "2017-01-24 13:36:00 ERROR::I can self-destruct\n"
     ]
    }
   ],
   "source": [
    "loginfo(\"Just letting you know\")\n",
    "logwarn(\"There's something I need to tell you.\")\n",
    "logdebug(\"I have issues.\")\n",
    "logerror(\"I can self-destruct\")"
   ]
  },
  {
   "cell_type": "markdown",
   "metadata": {},
   "source": [
    "Notice how the debug one didn't print? That can be really useful to debug production scripts without anyone knowing (other than you) that there was a problem in the first place. But loggers shouldn't really be printing out anyway right? We should have a log directory in with separate warning, info, debug and error logs. So why are these ones going to stdout?"
   ]
  },
  {
   "cell_type": "code",
   "execution_count": 6,
   "metadata": {
    "collapsed": false
   },
   "outputs": [
    {
     "data": {
      "text/plain": [
       "$basic.stdout\n",
       "<environment: 0x3758f58>\n"
      ]
     },
     "metadata": {},
     "output_type": "display_data"
    },
    {
     "data": {
      "text/html": [
       "<strong>INFO:</strong> 20"
      ],
      "text/plain": [
       "INFO \n",
       "  20 "
      ]
     },
     "metadata": {},
     "output_type": "execute_result"
    }
   ],
   "source": [
    "getLogger()[['handlers']]\n",
    "getHandler('basic.stdout')[['level']]"
   ]
  },
  {
   "cell_type": "markdown",
   "metadata": {},
   "source": [
    "Ahh, that's why. 'basic.stdout' is of level info-20. This is why debug, at a lower level was not printed. So what can we do about this? We can add another handler instead. "
   ]
  },
  {
   "cell_type": "code",
   "execution_count": 7,
   "metadata": {
    "collapsed": true
   },
   "outputs": [],
   "source": [
    "addHandler(writeToConsole)"
   ]
  },
  {
   "cell_type": "code",
   "execution_count": 8,
   "metadata": {
    "collapsed": false
   },
   "outputs": [
    {
     "data": {
      "text/html": [
       "<ol class=list-inline>\n",
       "\t<li>'basic.stdout'</li>\n",
       "\t<li>'writeToConsole'</li>\n",
       "</ol>\n"
      ],
      "text/plain": [
       "[1] \"basic.stdout\"   \"writeToConsole\""
      ]
     },
     "metadata": {},
     "output_type": "execute_result"
    }
   ],
   "source": [
    "with(getLogger(), names(handlers))"
   ]
  },
  {
   "cell_type": "markdown",
   "metadata": {},
   "source": [
    "Now we have two handlers, stdout and writeToConsole. There isn't much point in duplicating things, but there is use in writing warnings to stdout and general information to writeToConsole. Fortunately we can set levels on our handlers."
   ]
  },
  {
   "cell_type": "code",
   "execution_count": 9,
   "metadata": {
    "collapsed": true
   },
   "outputs": [],
   "source": [
    "setLevel(30, getHandler('basic.stdout'))  # The warning level\n",
    "setLevel(20, getHandler('writeToConsole'))  # Default level anyway."
   ]
  },
  {
   "cell_type": "code",
   "execution_count": 10,
   "metadata": {
    "collapsed": false
   },
   "outputs": [
    {
     "name": "stdout",
     "output_type": "stream",
     "text": [
      "2017-01-24 13:36:07 INFO::This is a piece of standard logging information\n"
     ]
    }
   ],
   "source": [
    "loginfo('This is a piece of standard logging information')"
   ]
  },
  {
   "cell_type": "code",
   "execution_count": 11,
   "metadata": {
    "collapsed": false
   },
   "outputs": [
    {
     "name": "stdout",
     "output_type": "stream",
     "text": [
      "2017-01-24 13:36:07 WARNING::This is a warning\n",
      "2017-01-24 13:36:07 WARNING::This is a warning\n"
     ]
    }
   ],
   "source": [
    "logwarn(\"This is a warning\")"
   ]
  },
  {
   "cell_type": "markdown",
   "metadata": {},
   "source": [
    "...so what happened here? Why has logwarn printed twice. Well because of the levels of the handlers. loginfo only printed to writeToConsole, its level is 20. logwarn printed to writeToConsole AND basic.stdout because of its higher rank."
   ]
  },
  {
   "cell_type": "code",
   "execution_count": 12,
   "metadata": {
    "collapsed": false
   },
   "outputs": [],
   "source": [
    "addHandler(writeToFile, file=\"./error.log\", level='ERROR')\n",
    "# This handler will capture just the error outputs. Which is why you should make your\n",
    "# errors very descriptive."
   ]
  },
  {
   "cell_type": "markdown",
   "metadata": {},
   "source": [
    "It is unfortunate that you cannot easily have two writeToFile handlers at different levels.\n",
    "It might be handy to have something at info level writing to one file and error logs to another and warnings to a final log. Fortunately, we can create our own handlers and then set them up. For example the writeToFile console is just:\n",
    "\n",
    "`writeToFile <- function(msg, handler){\n",
    "    if (length(list(...)) && \"dry\" %in% names(list(...))) \n",
    "        return(exists(\"file\", envir = handler))\n",
    "    cat(paste(msg, \"\\n\", sep = \"\"), file = with(handler, file), \n",
    "        append = TRUE)\n",
    "}`\n"
   ]
  },
  {
   "cell_type": "code",
   "execution_count": 13,
   "metadata": {
    "collapsed": false
   },
   "outputs": [],
   "source": [
    "# Now let's write our own for debugging, info, warning and error.\n",
    "writeToDebug <- function(msg, handler, ...)\n",
    "{\n",
    "   if (length(list(...)) && \"dry\" %in% names(list(...))) \n",
    "        return(exists(\"file\", envir = handler))\n",
    "    cat(paste(msg, \"\\n\", sep = \"\"), file = with(handler, file), \n",
    "        append = TRUE)\n",
    "}\n",
    "writeToInfo <- function(msg, handler, ...)\n",
    "{\n",
    "   if (length(list(...)) && \"dry\" %in% names(list(...))) \n",
    "        return(exists(\"file\", envir = handler))\n",
    "    cat(paste(msg, \"\\n\", sep = \"\"), file = with(handler, file), \n",
    "        append = TRUE)\n",
    "}\n",
    "writeToWarn <- function(msg, handler, ...)\n",
    "{\n",
    "   if (length(list(...)) && \"dry\" %in% names(list(...))) \n",
    "        return(exists(\"file\", envir = handler))\n",
    "    cat(paste(msg, \"\\n\", sep = \"\"), file = with(handler, file), \n",
    "        append = TRUE)    \n",
    "}\n",
    "writeToError <- function(msg, handler, ...)\n",
    "{\n",
    "   if (length(list(...)) && \"dry\" %in% names(list(...))) \n",
    "        return(exists(\"file\", envir = handler))\n",
    "    cat(paste(msg, \"\\n\", sep = \"\"), file = with(handler, file), \n",
    "        append = TRUE)\n",
    "}"
   ]
  },
  {
   "cell_type": "code",
   "execution_count": 14,
   "metadata": {
    "collapsed": false
   },
   "outputs": [],
   "source": [
    "# Seems like quite a lot of code, not to mention setting the levels of each handler.\n",
    "# Maybe we could turn this all into a function.\n",
    "setLogger <- function(log_directory, prefix){\n",
    "    dir.create(log_directory, showWarnings=FALSE)\n",
    "    logReset()\n",
    "    basicConfig()\n",
    "    removeHandler('basic.stdout')  # Optionally keep it in and print out the info log.\n",
    "    addHandler(writeToDebug, file=paste(log_directory,\"/\",prefix,\".debug.log\",sep=\"\"),\n",
    "               level='DEBUG')\n",
    "    addHandler(writeToInfo, file=paste(log_directory,\"/\",prefix,\".info.log\",sep=\"\"),\n",
    "               level='INFO')\n",
    "    addHandler(writeToWarn, file=paste(log_directory,\"/\",prefix,\".warn.log\",sep=\"\"),\n",
    "               level='WARN')    \n",
    "    addHandler(writeToError, file=paste(log_directory,\"/\",prefix,\".error.log\",sep=\"\"),\n",
    "               level='ERROR')\n",
    "}"
   ]
  },
  {
   "cell_type": "code",
   "execution_count": 15,
   "metadata": {
    "collapsed": false
   },
   "outputs": [],
   "source": [
    "setLogger(\"./log\", \"foo\")"
   ]
  },
  {
   "cell_type": "code",
   "execution_count": 16,
   "metadata": {
    "collapsed": false
   },
   "outputs": [],
   "source": [
    "logdebug(\"This is a debug log\")\n",
    "loginfo(\"This is an info log\")\n",
    "logwarn(\"This is a warning log\")\n",
    "logerror(\"This is an error log\")"
   ]
  },
  {
   "cell_type": "markdown",
   "metadata": {},
   "source": [
    "So that seems pretty simple? Let's have a look at the output of each!"
   ]
  },
  {
   "cell_type": "code",
   "execution_count": 17,
   "metadata": {
    "collapsed": false
   },
   "outputs": [
    {
     "name": "stdout",
     "output_type": "stream",
     "text": [
      "\n",
      "Printing the debugging log.\n",
      "2017-01-24 13:36:13 INFO::This is an info log\n",
      "2017-01-24 13:36:13 WARNING::This is a warning log\n",
      "2017-01-24 13:36:13 ERROR::This is an error log\n",
      "\n",
      "Printing the info log.\n",
      "2017-01-24 13:36:13 INFO::This is an info log\n",
      "2017-01-24 13:36:13 WARNING::This is a warning log\n",
      "2017-01-24 13:36:13 ERROR::This is an error log\n",
      "\n",
      "Printing the warning log.\n",
      "2017-01-24 13:36:13 WARNING::This is a warning log\n",
      "2017-01-24 13:36:13 ERROR::This is an error log\n",
      "\n",
      "Printing the error log.\n",
      "2017-01-24 13:36:13 ERROR::This is an error log\n"
     ]
    }
   ],
   "source": [
    "# Print contents of the debug file.\n",
    "cat(\"\\nPrinting the debugging log.\\n\")\n",
    "cat(readLines(\"./log/foo.debug.log\"), sep=\"\\n\")\n",
    "# Print contents of the info file.\n",
    "cat(\"\\nPrinting the info log.\\n\")\n",
    "cat(readLines(\"./log/foo.info.log\"), sep=\"\\n\")\n",
    "# Print contents of the warning file.\n",
    "cat(\"\\nPrinting the warning log.\\n\")\n",
    "cat(readLines(\"./log/foo.warn.log\"), sep=\"\\n\")\n",
    "# Print contents of the error file.\n",
    "cat(\"\\nPrinting the error log.\\n\")\n",
    "cat(readLines(\"./log/foo.error.log\"), sep=\"\\n\")"
   ]
  },
  {
   "cell_type": "markdown",
   "metadata": {},
   "source": [
    "We've covered everything that you really need to know.\n",
    "The last thing to add is that we've been playing around with the 'default' logger the whole time. We can acutally name our loggers and point our logs/errors to a particular logger with a particular calibration. Loggers are only created when they are needed."
   ]
  },
  {
   "cell_type": "code",
   "execution_count": 18,
   "metadata": {
    "collapsed": false
   },
   "outputs": [
    {
     "name": "stdout",
     "output_type": "stream",
     "text": [
      "2017-01-24 13:36:20 INFO:peasants:We're running out of food.\n",
      "2017-01-24 13:36:20 INFO:admin:There appears to be a rebellion going on...\n"
     ]
    }
   ],
   "source": [
    "logReset()\n",
    "addHandler(writeToConsole, logger='admin')\n",
    "addHandler(writeToConsole, logger='peasants')\n",
    "# From here we can direct logs in the script of the same level to different groups.\n",
    "# Depending on the relevance to each group.\n",
    "loginfo(\"We're running out of food.\", logger='peasants')\n",
    "loginfo(\"There appears to be a rebellion going on...\", logger='admin')\n",
    "logerror(\"\")"
   ]
  },
  {
   "cell_type": "markdown",
   "metadata": {},
   "source": [
    "This is interesting, now our :: have been moved to :`<logger`>:"
   ]
  },
  {
   "cell_type": "markdown",
   "metadata": {},
   "source": [
    "Any questions? My next talk will be about using Jupyter for Python and R. Because they're awesome!!"
   ]
  }
 ],
 "metadata": {
  "anaconda-cloud": {},
  "kernelspec": {
   "display_name": "R",
   "language": "R",
   "name": "ir"
  },
  "language_info": {
   "codemirror_mode": "r",
   "file_extension": ".r",
   "mimetype": "text/x-r-source",
   "name": "R",
   "pygments_lexer": "r",
   "version": "3.3.2"
  }
 },
 "nbformat": 4,
 "nbformat_minor": 0
}